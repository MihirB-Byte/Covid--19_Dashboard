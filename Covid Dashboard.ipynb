{
 "cells": [
  {
   "cell_type": "code",
   "execution_count": 4,
   "id": "e0f608e4",
   "metadata": {},
   "outputs": [],
   "source": [
    "import numpy as np\n",
    "import pandas as pd\n",
    "import os\n",
    "import urllib\n",
    "%matplotlib inline"
   ]
  },
  {
   "cell_type": "code",
   "execution_count": 14,
   "id": "63cdefc7",
   "metadata": {},
   "outputs": [],
   "source": [
    "# who_url = \"https://covid19.who.int/WHO-COVID-19-global-data.csv\"\n",
    "# jhu_Confirmed_url = \"https://github.com/CSSEGISandData/COVID-19/raw/master/csse_covid_19_data/csse_covid_19_time_series/time_series_covid19_confirmed_global.csv\"\n",
    "# jhu_deaths_url = \"https://github.com/CSSEGISandData/COVID-19/raw/master/csse_covid_19_data/csse_covid_19_time_series/time_series_covid19_deaths_global.csv\"\n",
    "# jhu_recovered_url = \"https://github.com/CSSEGISandData/COVID-19/raw/master/csse_covid_19_data/csse_covid_19_time_series/time_series_covid19_recovered_global.csv\"\n",
    "\n",
    "# urls_d = [who_url,jhu_Confirmed_url,jhu_deaths_url,jhu_recovered_url] \n",
    "\n",
    "file_path = os.path.join(\"data\",\"covid\")\n",
    "# who_file = \"WHO-COVID-19-global-data.csv\"\n",
    "# jhu_con_file = \"time_series_covid19_confirmed_global.csv\"\n",
    "# jhu_dth_file = \"time_series_covid19_deaths_global.csv\"\n",
    "# jhu_rcv_file = \"time_series_covid19_recovered_global.csv\"\n",
    "\n",
    "# files_d = [who_file,jhu_con_file,jhu_dth_file,jhu_rcv_file]\n",
    "\n",
    "files = { \"WHO-COVID-19-global-data.csv\" : \"https://covid19.who.int/WHO-COVID-19-global-data.csv\",\n",
    "          \"time_series_covid19_confirmed_global.csv\": \"https://github.com/CSSEGISandData/COVID-19/raw/master/csse_covid_19_data/csse_covid_19_time_series/time_series_covid19_confirmed_global.csv\",\n",
    "          \"time_series_covid19_deaths_global.csv\": \"https://github.com/CSSEGISandData/COVID-19/raw/master/csse_covid_19_data/csse_covid_19_time_series/time_series_covid19_deaths_global.csv\",\n",
    "          \"time_series_covid19_recovered_global.csv\": \"https://github.com/CSSEGISandData/COVID-19/raw/master/csse_covid_19_data/csse_covid_19_time_series/time_series_covid19_recovered_global.csv\"\n",
    "         }\n"
   ]
  },
  {
   "cell_type": "code",
   "execution_count": 15,
   "id": "54261afc",
   "metadata": {},
   "outputs": [],
   "source": [
    "for file,url in files.items():\n",
    "    os.makedirs(file_path, exist_ok=True)\n",
    "    csv_path = os.path.join(file_path,file)\n",
    "    urllib.request.urlretrieve(url,csv_path)\n"
   ]
  },
  {
   "cell_type": "code",
   "execution_count": null,
   "id": "9760c8c0",
   "metadata": {},
   "outputs": [],
   "source": [
    " "
   ]
  }
 ],
 "metadata": {
  "kernelspec": {
   "display_name": "Python 3 (ipykernel)",
   "language": "python",
   "name": "python3"
  },
  "language_info": {
   "codemirror_mode": {
    "name": "ipython",
    "version": 3
   },
   "file_extension": ".py",
   "mimetype": "text/x-python",
   "name": "python",
   "nbconvert_exporter": "python",
   "pygments_lexer": "ipython3",
   "version": "3.10.5"
  }
 },
 "nbformat": 4,
 "nbformat_minor": 5
}
